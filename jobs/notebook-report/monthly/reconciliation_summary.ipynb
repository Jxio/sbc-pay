{
 "cells": [
  {
   "cell_type": "markdown",
   "metadata": {
    "collapsed": false
   },
   "source": [
    "# Reconciliation Monthly Stats"
   ]
  },
  {
   "cell_type": "markdown",
   "metadata": {
    "collapsed": false
   },
   "source": [
    "We need to load in these libraries into our notebook in order to query, load, manipulate and view the data"
   ]
  },
  {
   "cell_type": "code",
   "execution_count": null,
   "metadata": {
    "collapsed": false,
    "pycharm": {
     "is_executing": false,
     "name": "#%%\n"
    }
   },
   "outputs": [],
   "source": [
    "import os\n",
    "from datetime import datetime, timedelta\n",
    "from config import Config\n",
    "\n",
    "%load_ext sql\n",
    "%config SqlMagic.displaylimit = 5"
   ]
  },
  {
   "cell_type": "markdown",
   "metadata": {
    "collapsed": false
   },
   "source": [
    "This will create the connection to the database and prep the jupyter magic for SQL"
   ]
  },
  {
   "cell_type": "code",
   "execution_count": null,
   "metadata": {
    "collapsed": false,
    "pycharm": {
     "is_executing": false,
     "name": "#%%\n"
    }
   },
   "outputs": [],
   "source": [
    "%sql $Config.SQLALCHEMY_DATABASE_URI"
   ]
  },
  {
   "cell_type": "markdown",
   "metadata": {
    "collapsed": false
   },
   "source": [
    "Simplest query to run to ensure our libraries are loaded and our DB connection is working"
   ]
  },
  {
   "cell_type": "code",
   "execution_count": null,
   "metadata": {
    "collapsed": false,
    "pycharm": {
     "is_executing": false,
     "name": "#%%\n"
    }
   },
   "outputs": [],
   "source": [
    "%%sql \n",
    "select now() AT TIME ZONE 'PST' as current_date"
   ]
  },
  {
   "cell_type": "markdown",
   "metadata": {},
   "source": [
    "Query ..."
   ]
  },
  {
   "cell_type": "code",
   "execution_count": null,
   "metadata": {},
   "outputs": [],
   "source": [
    "%%sql monthly_reconciliation_summary  <<\n",
    "SELECT count(*) as transaction_count, sum(total - service_fees) as subtotal, sum(service_fees) as service_fees, sum(total) as total, (created_on)::date, payment_method_code, corp_type_code \n",
    "FROM invoices \n",
    "WHERE corp_type_code = 'CSO' \n",
    "AND invoice_status_code = 'PAID' \n",
    "AND payment_method_code in ('PAD','EJV', 'DRAWDOWN') \n",
    "AND date(created_on)  > date(current_date - 1 - interval '1 months')\n",
    "AND date(created_on) <= date(current_date - 1)\n",
    "GROUP BY (created_on)::date, payment_method_code, corp_type_code;"
   ]
  },
  {
   "cell_type": "markdown",
   "metadata": {},
   "source": [
    "Save to CSV"
   ]
  },
  {
   "cell_type": "code",
   "execution_count": null,
   "metadata": {},
   "outputs": [],
   "source": [
    "filename_summary = os.path.join(os.getcwd(), r'data/')+'monthly_reconciliation_summary_' + datetime.strftime(datetime.now()-timedelta(1), '%Y-%m') +'.csv'\n",
    "df_summary = monthly_reconciliation_summary.DataFrame()\n",
    "with open(filename_summary, 'w') as f:  \n",
    "    f.write('Monthly Reconciliation Summary:\\n\\n')\n",
    "    if df_summary.empty:\n",
    "        f.write('No Data Retrieved')\n",
    "    else:        \n",
    "        df_summary.to_csv(f, sep=',', encoding='utf-8', index=False)"
   ]
  },
  {
   "cell_type": "code",
   "execution_count": null,
   "metadata": {},
   "outputs": [],
   "source": [
    "%%sql monthly_reconciliation_disbursed  <<\n",
    "SELECT count(*) as transaction_count, sum(total - service_fees) as subtotal, sum(service_fees) as service_fees, sum(total) as total, (updated_on)::date, payment_method_code, corp_type_code\n",
    "FROM invoices\n",
    "WHERE corp_type_code = 'CSO'\n",
    "AND invoice_status_code = 'PAID'\n",
    "AND payment_method_code in ('PAD','EJV')\n",
    "AND disbursement_status_code = 'COMPLETED'\n",
    "AND date(updated_on)  > date(current_date - 1 - interval '1 months')\n",
    "AND date(updated_on)  <= date(current_date - 1)\n",
    "GROUP BY (updated_on)::date, payment_method_code, corp_type_code;"
   ]
  },
  {
   "cell_type": "markdown",
   "metadata": {},
   "source": [
    "Save to another CSV"
   ]
  },
  {
   "cell_type": "code",
   "execution_count": null,
   "metadata": {},
   "outputs": [],
   "source": [
    "filename_disbursed = os.path.join(os.getcwd(), r'data/')+'monthly_reconciliation_disbursed_' + datetime.strftime(datetime.now()-timedelta(1), '%Y-%m') +'.csv'\n",
    "df_disbursed = monthly_reconciliation_disbursed.DataFrame()\n",
    "with open(filename_disbursed, 'a') as f:  \n",
    "    f.write('Monthly Reconciliation Disbursed:\\n\\n')\n",
    "    if df_disbursed.empty:\n",
    "        f.write('No Data Retrieved')\n",
    "    else:        \n",
    "        df_disbursed.to_csv(f, sep=',', encoding='utf-8', index=False)"
   ]
  }
 ],
 "metadata": {
  "celltoolbar": "Tags",
  "kernelspec": {
   "display_name": "Python 3.10.4 64-bit",
   "language": "python",
   "name": "python3"
  },
  "language_info": {
   "codemirror_mode": {
    "name": "ipython",
    "version": 3
   },
   "file_extension": ".py",
   "mimetype": "text/x-python",
   "name": "python",
   "nbconvert_exporter": "python",
   "pygments_lexer": "ipython3",
   "version": "3.10.4"
  },
  "pycharm": {
   "stem_cell": {
    "cell_type": "raw",
    "metadata": {
     "collapsed": false
    },
    "source": []
   }
  },
  "vscode": {
   "interpreter": {
    "hash": "fcb35bce15c55b4cacb5112e543368f86c7f98ed17acd45e6841ee83ed1df6e3"
   }
  }
 },
 "nbformat": 4,
 "nbformat_minor": 2
}
